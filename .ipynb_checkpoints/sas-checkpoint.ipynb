{
 "cells": [
  {
   "cell_type": "code",
   "execution_count": null,
   "metadata": {},
   "outputs": [],
   "source": [
    "#!/usr/bin/python\n",
    "\n",
    "\"\"\"\n",
    "ZetCode PyQt5 tutorial\n",
    "\n",
    "This is a simple drag and\n",
    "drop example.\n",
    "\n",
    "Author: Jan Bodnar\n",
    "Website: zetcode.com\n",
    "\"\"\"\n",
    "\n",
    "import sys\n",
    "\n",
    "from PyQt5.QtWidgets import (QPushButton, QWidget,\n",
    "                             QLineEdit, QApplication)\n",
    "\n",
    "\n",
    "class Button(QPushButton):\n",
    "\n",
    "    def __init__(self, title, parent):\n",
    "        super().__init__(title, parent)\n",
    "\n",
    "        self.setAcceptDrops(True)\n",
    "\n",
    "    def dragEnterEvent(self, e):\n",
    "\n",
    "        if e.mimeData().hasFormat('text/plain'):\n",
    "            e.accept()\n",
    "        else:\n",
    "            e.ignore()\n",
    "\n",
    "    def dropEvent(self, e):\n",
    "\n",
    "        self.setText(e.mimeData().text())\n",
    "\n",
    "\n",
    "class Example(QWidget):\n",
    "\n",
    "    def __init__(self):\n",
    "        super().__init__()\n",
    "\n",
    "        self.initUI()\n",
    "\n",
    "    def initUI(self):\n",
    "\n",
    "        edit = QLineEdit('', self)\n",
    "        edit.setDragEnabled(True)\n",
    "        edit.move(30, 65)\n",
    "\n",
    "        button = Button(\"Button\", self)\n",
    "        button.move(190, 65)\n",
    "\n",
    "        self.setWindowTitle('Simple drag and drop')\n",
    "        self.setGeometry(300, 300, 300, 150)\n",
    "\n",
    "\n",
    "def main():\n",
    "\n",
    "    app = QApplication(sys.argv)\n",
    "    ex = Example()\n",
    "    ex.show()\n",
    "    app.exec_()\n",
    "\n",
    "\n",
    "if __name__ == '__main__':\n",
    "    main()"
   ]
  },
  {
   "cell_type": "code",
   "execution_count": null,
   "metadata": {},
   "outputs": [],
   "source": []
  },
  {
   "cell_type": "code",
   "execution_count": null,
   "metadata": {},
   "outputs": [],
   "source": []
  },
  {
   "cell_type": "code",
   "execution_count": null,
   "metadata": {},
   "outputs": [],
   "source": []
  },
  {
   "cell_type": "code",
   "execution_count": null,
   "metadata": {},
   "outputs": [],
   "source": []
  },
  {
   "cell_type": "code",
   "execution_count": null,
   "metadata": {},
   "outputs": [],
   "source": []
  },
  {
   "cell_type": "code",
   "execution_count": null,
   "metadata": {},
   "outputs": [],
   "source": []
  },
  {
   "cell_type": "code",
   "execution_count": null,
   "metadata": {},
   "outputs": [],
   "source": []
  },
  {
   "cell_type": "code",
   "execution_count": 6,
   "metadata": {},
   "outputs": [],
   "source": []
  },
  {
   "cell_type": "code",
   "execution_count": null,
   "metadata": {},
   "outputs": [],
   "source": []
  },
  {
   "cell_type": "code",
   "execution_count": null,
   "metadata": {},
   "outputs": [],
   "source": []
  }
 ],
 "metadata": {
  "kernelspec": {
   "display_name": "Python 3",
   "language": "python",
   "name": "python3"
  },
  "language_info": {
   "codemirror_mode": {
    "name": "ipython",
    "version": 3
   },
   "file_extension": ".py",
   "mimetype": "text/x-python",
   "name": "python",
   "nbconvert_exporter": "python",
   "pygments_lexer": "ipython3",
   "version": "3.7.7"
  }
 },
 "nbformat": 4,
 "nbformat_minor": 4
}
